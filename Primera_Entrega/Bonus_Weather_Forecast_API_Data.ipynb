{
 "cells": [
  {
   "cell_type": "markdown",
   "metadata": {
    "application/vnd.databricks.v1+cell": {
     "cellMetadata": {
      "byteLimit": 2048000,
      "rowLimit": 10000
     },
     "inputWidgets": {},
     "nuid": "b1801a43-5a17-48a6-a40b-2b2eff014f36",
     "showTitle": false,
     "title": ""
    }
   },
   "source": [
    "\n",
    "<h1>Primera Entrega - Proyecto de Procesamiento de datos a gran escala</h1>\n",
    "\n",
    "<h2>Fecha: 10/04/2024</h2>\n",
    "\n",
    "\n",
    "<h4>Programas</h4>\n",
    "<h5>Ciencia de datos e Ingeniería de Sistemas</h5>\n",
    "<h4>Integrantes</h4>\n",
    "<p>Santiago Botero Pacheco</p>\n",
    "<p>Santiago Rueda Pineda</p>\n",
    "<p>Santiago Avilés Tibocha</p>\n",
    "<p>Brayan Steven Carrillo Mora</p>\n",
    "<p style = 'text-align:center;'>\n",
    "<img src=\"https://upload.wikimedia.org/wikipedia/commons/thumb/6/6c/Javeriana.svg/1200px-Javeriana.svg.png\" height=\"200\" width=\"300\">\n",
    "</p>"
   ]
  },
  {
   "cell_type": "markdown",
   "metadata": {
    "application/vnd.databricks.v1+cell": {
     "cellMetadata": {
      "byteLimit": 2048000,
      "rowLimit": 10000
     },
     "inputWidgets": {},
     "nuid": "33357968-4e58-480d-820c-c6a82adede74",
     "showTitle": false,
     "title": ""
    }
   },
   "source": [
    "<h3>Importando la libreria requests para hacer las peticiones a la API, pandas para el tratamiento de datos e inicializando una lista para guardar las ciudades que se consultaran en la API</h3>"
   ]
  },
  {
   "cell_type": "code",
   "execution_count": 0,
   "metadata": {
    "application/vnd.databricks.v1+cell": {
     "cellMetadata": {
      "byteLimit": 2048000,
      "rowLimit": 10000
     },
     "inputWidgets": {},
     "nuid": "ecccd3a0-7e63-42ec-8543-65254c538d65",
     "showTitle": false,
     "title": ""
    }
   },
   "outputs": [],
   "source": [
    "import requests\n",
    "import pandas as pd\n",
    "ciudades=[] #Inicializamos una lista de las ciudades a registrar en la tabla"
   ]
  },
  {
   "cell_type": "markdown",
   "metadata": {
    "application/vnd.databricks.v1+cell": {
     "cellMetadata": {
      "byteLimit": 2048000,
      "rowLimit": 10000
     },
     "inputWidgets": {},
     "nuid": "71df85cb-ad48-4603-bedf-6f771b1f91c1",
     "showTitle": false,
     "title": ""
    }
   },
   "source": [
    "<h3>Ajustando los parametros correspondientes a la ciudad de Nueva York y realizando la petición</h3>"
   ]
  },
  {
   "cell_type": "code",
   "execution_count": 0,
   "metadata": {
    "application/vnd.databricks.v1+cell": {
     "cellMetadata": {
      "byteLimit": 2048000,
      "rowLimit": 10000
     },
     "inputWidgets": {},
     "nuid": "b93cf5ac-654a-4599-99ac-008821330944",
     "showTitle": false,
     "title": ""
    }
   },
   "outputs": [],
   "source": [
    "key='4b831bd0fb4ae3a00e0d89f9ac8143d3' #API Key proporcionada por Open Weather, puede estar inactiva al momento de correr este programa y puede afectar el resultado del llamado al APi.\n",
    "lat='40.71' #Latitud de Nueva York\n",
    "lon='-74.01' #Longitud de Nueva York\n",
    "units='metric' #Unidades metricas\n",
    "apiClima_endpoint = \"https://api.openweathermap.org/data/2.5/weather?\"+\"lat=\"+lat+\"&lon=\"+lon+\"&units=\"+units+\"&appid=\"+key #Se concatena el endpoint junto a los parametros\n",
    "resultados = [] #Inicializamos una lista de resultados\n",
    "\n",
    "# Realizar la solicitud GET a la API\n",
    "response = requests.get(apiClima_endpoint)\n",
    "\n",
    "# Verificar si la solicitud fue exitosa (código de estado 200)\n",
    "if response.status_code == 200:\n",
    "    # Obtener el contenido JSON de la respuesta\n",
    "    json_data = response.json()\n",
    "    resultados.append(json_data) #Guardamos el resultado obtenido en la lista de resultados\n",
    "    ciudades.append('Nueva York') #Guardamos Nueva York, dentro de la lista de ciudades\n",
    "else:\n",
    "    print('La solicitud GET no fue exitosa. Código de estado:', response.status_code)\n",
    "    print(response.content)"
   ]
  },
  {
   "cell_type": "markdown",
   "metadata": {
    "application/vnd.databricks.v1+cell": {
     "cellMetadata": {
      "byteLimit": 2048000,
      "rowLimit": 10000
     },
     "inputWidgets": {},
     "nuid": "b005aca9-e5f0-4db1-a4de-6989143c05d2",
     "showTitle": false,
     "title": ""
    }
   },
   "source": [
    "<h3>Ajustando los parametros correspondientes a la ciudad de Bogotá y realizando la petición</h3>"
   ]
  },
  {
   "cell_type": "code",
   "execution_count": 0,
   "metadata": {
    "application/vnd.databricks.v1+cell": {
     "cellMetadata": {
      "byteLimit": 2048000,
      "rowLimit": 10000
     },
     "inputWidgets": {},
     "nuid": "5c4a0f54-e9db-4783-ada4-aca677eb0706",
     "showTitle": false,
     "title": ""
    }
   },
   "outputs": [],
   "source": [
    "lat='4.61' #Latitud de Bogotá\n",
    "lon='-74.08' #Longitud de Bogotá\n",
    "apiClima_endpoint = \"https://api.openweathermap.org/data/2.5/weather?\"+\"lat=\"+lat+\"&lon=\"+lon+\"&units=\"+units+\"&appid=\"+key #Se concatena el endpoint junto a los parametros\n",
    "\n",
    "# Realizar la solicitud GET a la API\n",
    "response = requests.get(apiClima_endpoint)\n",
    "\n",
    "# Verificar si la solicitud fue exitosa (código de estado 200)\n",
    "if response.status_code == 200:\n",
    "    # Obtener el contenido JSON de la respuesta\n",
    "    json_data = response.json()\n",
    "    resultados.append(json_data) #Guardamos el resultado obtenido en la lista de resultados\n",
    "    ciudades.append('Bogotá') #Guardamos Bogotá dentro de la lista de ciudades\n",
    "else:\n",
    "    print('La solicitud GET no fue exitosa. Código de estado:', response.status_code)\n",
    "    print(response.content)"
   ]
  },
  {
   "cell_type": "markdown",
   "metadata": {
    "application/vnd.databricks.v1+cell": {
     "cellMetadata": {
      "byteLimit": 2048000,
      "rowLimit": 10000
     },
     "inputWidgets": {},
     "nuid": "7fb40cbd-5bfc-43fc-b75c-94ad49cb51f0",
     "showTitle": false,
     "title": ""
    }
   },
   "source": [
    "<h3>Ajustando los parametros correspondientes a la ciudad de Madrid y realizando la petición</h3>"
   ]
  },
  {
   "cell_type": "code",
   "execution_count": 0,
   "metadata": {
    "application/vnd.databricks.v1+cell": {
     "cellMetadata": {
      "byteLimit": 2048000,
      "rowLimit": 10000
     },
     "inputWidgets": {},
     "nuid": "55f3d9dc-7c72-49fd-827a-e894c21db8e8",
     "showTitle": false,
     "title": ""
    }
   },
   "outputs": [],
   "source": [
    "lat='40.41' #Latitud de Madrid\n",
    "lon='-3.70' #Longitud de Madrid\n",
    "apiClima_endpoint = \"https://api.openweathermap.org/data/2.5/weather?\"+\"lat=\"+lat+\"&lon=\"+lon+\"&units=\"+units+\"&appid=\"+key #Se concatena el endpoint junto a los parametros\n",
    "\n",
    "# Realizar la solicitud GET a la API\n",
    "response = requests.get(apiClima_endpoint)\n",
    "\n",
    "# Verificar si la solicitud fue exitosa (código de estado 200)\n",
    "if response.status_code == 200:\n",
    "    # Obtener el contenido JSON de la respuesta\n",
    "    json_data = response.json()\n",
    "    resultados.append(json_data) #Guardamos el resultado obtenido en la lista de resultados\n",
    "    ciudades.append('Madrid') #Guardamos Madrid en la lista de ciudades\n",
    "else:\n",
    "    print('La solicitud GET no fue exitosa. Código de estado:', response.status_code)\n",
    "    print(response.content)"
   ]
  },
  {
   "cell_type": "markdown",
   "metadata": {
    "application/vnd.databricks.v1+cell": {
     "cellMetadata": {
      "byteLimit": 2048000,
      "rowLimit": 10000
     },
     "inputWidgets": {},
     "nuid": "fd665f7e-d5ff-4a4f-af0c-b8dfcd8fa029",
     "showTitle": false,
     "title": ""
    }
   },
   "source": [
    "<h3>Extrayendo la información de los JSON obtenidos en la solicitud e inicializando las listas para almacenar dicha información</h3>"
   ]
  },
  {
   "cell_type": "code",
   "execution_count": 0,
   "metadata": {
    "application/vnd.databricks.v1+cell": {
     "cellMetadata": {
      "byteLimit": 2048000,
      "rowLimit": 10000
     },
     "inputWidgets": {},
     "nuid": "641b78ce-c164-4bee-93a1-26df00351cfd",
     "showTitle": false,
     "title": ""
    }
   },
   "outputs": [],
   "source": [
    "#Inicializamos las listas para cada caracteristica que deseamos almacenar en la tabla, en este caso temperatura, sensación termica, temperatura minima, temperatura maxima, presión y humedad \n",
    "temperatura = []\n",
    "termica = []\n",
    "minima = []\n",
    "maxima = []\n",
    "presion = []\n",
    "humedad = []\n",
    "for resultado in resultados: #Recorremos los resultados\n",
    "    temperatura.append(resultado['main']['temp']) #Agregamos la temperatura del resultado a la lista de temperatura\n",
    "    termica.append(resultado['main']['feels_like']) #Agregamos la sensación termica del resultado a la lista de sensación termica\n",
    "    minima.append(resultado['main']['temp_min']) #Agregamos la temperatura minima del resultado a la lista de temperatura minima\n",
    "    maxima.append(resultado['main']['temp_max']) #Agregamos la temperatura maxima del resultado a la lista de temperatura maxima\n",
    "    presion.append(resultado['main']['pressure']) #Agregamos la presión del resultado a la lista de presión\n",
    "    humedad.append(resultado['main']['humidity']) #Agregamos la humedad del resultado a la lista de humedad"
   ]
  },
  {
   "cell_type": "markdown",
   "metadata": {
    "application/vnd.databricks.v1+cell": {
     "cellMetadata": {
      "byteLimit": 2048000,
      "rowLimit": 10000
     },
     "inputWidgets": {},
     "nuid": "0637e30a-2ed8-4eee-96b0-8fe6c48a2f19",
     "showTitle": false,
     "title": ""
    }
   },
   "source": [
    "<h3>Creando el dataframe de pandas con las listas con información de la API y transformandolo en un dataframe de PySpark para mostrar como una tabla</h3>"
   ]
  },
  {
   "cell_type": "code",
   "execution_count": 0,
   "metadata": {
    "application/vnd.databricks.v1+cell": {
     "cellMetadata": {
      "byteLimit": 2048000,
      "rowLimit": 10000
     },
     "inputWidgets": {},
     "nuid": "66eac21f-7571-41d7-ab54-db940b79ea4f",
     "showTitle": false,
     "title": ""
    }
   },
   "outputs": [
    {
     "output_type": "display_data",
     "data": {
      "text/html": [
       "<style scoped>\n",
       "  .table-result-container {\n",
       "    max-height: 300px;\n",
       "    overflow: auto;\n",
       "  }\n",
       "  table, th, td {\n",
       "    border: 1px solid black;\n",
       "    border-collapse: collapse;\n",
       "  }\n",
       "  th, td {\n",
       "    padding: 5px;\n",
       "  }\n",
       "  th {\n",
       "    text-align: left;\n",
       "  }\n",
       "</style><div class='table-result-container'><table class='table-result'><thead style='background-color: white'><tr><th>Ciudad</th><th>Temperatura (C°) </th><th>Sensación termica (C°) </th><th>Temperatura minima (C°) </th><th>Temperatura maxima (C°) </th><th>Presion (Pa)</th><th>Humedad (%) </th></tr></thead><tbody><tr><td>Nueva York</td><td>16.34</td><td>15.91</td><td>13.34</td><td>18.61</td><td>1007</td><td>72</td></tr><tr><td>Bogotá</td><td>14.68</td><td>14.66</td><td>14.68</td><td>14.68</td><td>1026</td><td>94</td></tr><tr><td>Madrid</td><td>15.78</td><td>15.03</td><td>11.7</td><td>18.17</td><td>1021</td><td>62</td></tr></tbody></table></div>"
      ]
     },
     "metadata": {
      "application/vnd.databricks.v1+output": {
       "addedWidgets": {},
       "aggData": [],
       "aggError": "",
       "aggOverflow": false,
       "aggSchema": [],
       "aggSeriesLimitReached": false,
       "aggType": "",
       "arguments": {},
       "columnCustomDisplayInfos": {},
       "data": [
        [
         "Nueva York",
         16.34,
         15.91,
         13.34,
         18.61,
         1007,
         72
        ],
        [
         "Bogotá",
         14.68,
         14.66,
         14.68,
         14.68,
         1026,
         94
        ],
        [
         "Madrid",
         15.78,
         15.03,
         11.7,
         18.17,
         1021,
         62
        ]
       ],
       "datasetInfos": [],
       "dbfsResultPath": null,
       "isJsonSchema": true,
       "metadata": {},
       "overflow": false,
       "plotOptions": {
        "customPlotOptions": {},
        "displayType": "table",
        "pivotAggregation": null,
        "pivotColumns": null,
        "xColumns": null,
        "yColumns": null
       },
       "removedWidgets": [],
       "schema": [
        {
         "metadata": "{}",
         "name": "Ciudad",
         "type": "\"string\""
        },
        {
         "metadata": "{}",
         "name": "Temperatura (C°) ",
         "type": "\"double\""
        },
        {
         "metadata": "{}",
         "name": "Sensación termica (C°) ",
         "type": "\"double\""
        },
        {
         "metadata": "{}",
         "name": "Temperatura minima (C°) ",
         "type": "\"double\""
        },
        {
         "metadata": "{}",
         "name": "Temperatura maxima (C°) ",
         "type": "\"double\""
        },
        {
         "metadata": "{}",
         "name": "Presion (Pa)",
         "type": "\"long\""
        },
        {
         "metadata": "{}",
         "name": "Humedad (%) ",
         "type": "\"long\""
        }
       ],
       "type": "table"
      }
     },
     "output_type": "display_data"
    }
   ],
   "source": [
    "#Creamos un dataframe de pandas con las listas creadas y especificando las medidas de cada lista\n",
    "tabla_clima = {\n",
    "    'Ciudad': ciudades,\n",
    "    'Temperatura (C°) ': temperatura,\n",
    "    'Sensación termica (C°) ': termica,\n",
    "    'Temperatura minima (C°) ' : minima,\n",
    "    'Temperatura maxima (C°) ' : maxima,\n",
    "    'Presion (Pa)' : presion,\n",
    "    'Humedad (%) ' : humedad\n",
    "}\n",
    "df_clima = pd.DataFrame(tabla_clima)\n",
    "\n",
    "df_spark_clima = spark.createDataFrame(df_clima) #Creamos un dataframe de PySpark a partir del dataframe de pandas creado en el paso anterior\n",
    "\n",
    "# Visualizar los primeros registros del DataFrame de PySpark\n",
    "df_spark_clima.display()"
   ]
  }
 ],
 "metadata": {
  "application/vnd.databricks.v1+notebook": {
   "dashboards": [],
   "language": "python",
   "notebookMetadata": {
    "pythonIndentUnit": 4
   },
   "notebookName": "Bonus_Weather_Forecast_API_Data",
   "widgets": {}
  }
 },
 "nbformat": 4,
 "nbformat_minor": 0
}
