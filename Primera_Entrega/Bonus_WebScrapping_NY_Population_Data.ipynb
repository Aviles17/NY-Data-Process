{
 "cells": [
  {
   "cell_type": "markdown",
   "metadata": {
    "application/vnd.databricks.v1+cell": {
     "cellMetadata": {
      "byteLimit": 2048000,
      "rowLimit": 10000
     },
     "inputWidgets": {},
     "nuid": "cde88c85-3344-45e7-99b1-31ffdfc6f384",
     "showTitle": false,
     "title": ""
    }
   },
   "source": [
    "\n",
    "<h1>Primera Entrega - Proyecto de Procesamiento de datos a gran escala</h1>\n",
    "\n",
    "<h2>Fecha: 10/04/2024</h2>\n",
    "\n",
    "\n",
    "<h4>Programas</h4>\n",
    "<h5>Ciencia de datos e Ingeniería de Sistemas</h5>\n",
    "<h4>Integrantes</h4>\n",
    "<p>Santiago Botero Pacheco</p>\n",
    "<p>Santiago Rueda Pineda</p>\n",
    "<p>Santiago Avilés Tibocha</p>\n",
    "<p>Brayan Steven Carrillo Mora</p>\n",
    "<p style = 'text-align:center;'>\n",
    "<img src=\"https://upload.wikimedia.org/wikipedia/commons/thumb/6/6c/Javeriana.svg/1200px-Javeriana.svg.png\" height=\"200\" width=\"300\">\n",
    "</p>"
   ]
  },
  {
   "cell_type": "markdown",
   "metadata": {
    "application/vnd.databricks.v1+cell": {
     "cellMetadata": {
      "byteLimit": 2048000,
      "rowLimit": 10000
     },
     "inputWidgets": {},
     "nuid": "3bc35baa-2e0b-40c8-b232-b48912db8f9c",
     "showTitle": false,
     "title": ""
    }
   },
   "source": [
    "<h3>Importando librerias y obteniendo el contenido de la pagina</h3>"
   ]
  },
  {
   "cell_type": "code",
   "execution_count": 0,
   "metadata": {
    "application/vnd.databricks.v1+cell": {
     "cellMetadata": {
      "byteLimit": 2048000,
      "rowLimit": 10000
     },
     "inputWidgets": {},
     "nuid": "4906f05f-8e49-4bcc-bb45-4ff3afb82cdb",
     "showTitle": false,
     "title": ""
    }
   },
   "outputs": [],
   "source": [
    "import requests\n",
    "from bs4 import BeautifulSoup #Libreria utilizada para realizar Web Scrapping\n",
    "\n",
    "# URL de la página web\n",
    "url = 'https://www.health.ny.gov/statistics/cancer/registry/appendix/neighborhoodpop.htm'\n",
    "\n",
    "# Realizar la solicitud GET para obtener el contenido HTML de la página\n",
    "response = requests.get(url)\n",
    "\n",
    "# Verificar si la solicitud fue exitosa\n",
    "if response.status_code == 200:\n",
    "    # Parsear el contenido HTML utilizando BeautifulSoup\n",
    "    soup = BeautifulSoup(response.content, 'html.parser')\n",
    "\n",
    "    # Encontrar la tabla por su etiqueta <table> y cualquier identificador o clase si es necesario\n",
    "    tabla = soup.find('table')\n",
    "    #Se inicializan las listas donde se guardaran los datos obtenidos al obtener los datos de la pagina.\n",
    "    loc = [] #Localidades de la ciudad de Nueva York\n",
    "    bar = [] #Barrios de la ciudad de Nueva York\n",
    "    hom = [] #Cantidad de hombres en Nueva York\n",
    "    muj = [] #Cantidad de mujeres en Nueva York\n",
    "    tot = [] #Total de habitantes en Nueva York\n",
    "    if tabla:\n",
    "        # Si se encuentra la tabla, puedes iterar sobre las filas y columnas para extraer la información\n",
    "        i = 0 #Variable inicializada para saltarse la primera fila\n",
    "        for fila in tabla.find_all('tr'): #Se buscan todas las filas 'rows' presentes en la tabla\n",
    "            if i>0: #Establecemos condición para saltarnos el titulo de la tabla, es decir la primera fila\n",
    "                localidades = fila.find_all('th', attrs={'headers': 'b'}) #Una vez analizada la pagina web de forma manual, se encontro que las localidades estan caracterizadas por el header 'b', por lo cual se busca especificamente los elementos <th> con este header en especifico.\n",
    "                barrios = fila.find_all('th', attrs={'headers': 'c'})  #Una vez analizada la pagina web de forma manual, se encontro que los barrios estan caracterizadas por el header 'c', por lo cual se busca especificamente los elementos <th> con este header en especifico.\n",
    "                columnas = fila.find_all('td') #Se buscan todas las columnas presentes en la fila, las cuales corresponden a los registros de la tabla\n",
    "                if localidades: #Condición para verificar que se hayan obtenido localidades a través de Web Scrapping\n",
    "                    for localidad in localidades: #Se recorren las localidades\n",
    "                        if localidad.text.strip() != '': #Debido a que la tabla, muestra solamente una localidad para el primer barrio, y luego muestra un espacio vacio, haciendo alusión a que pertenecen a la ultima localidad mencionada, se debe verificar si el dato obtenido es un string vacio, en caso de no serlo, se agrega la localidad a la lista.\n",
    "                            loc.append(localidad.text.strip())\n",
    "                        else:\n",
    "                            loc.append(loc[-1]) #En caso de ser un string vacio, se agrega el ultimo elemento presente en la lista de localidades.\n",
    "                if barrios: #Condición para verificar que se hayan obtenido barrios a través de Web Scrapping\n",
    "                    for barrio in barrios: #Se recorren los barrios\n",
    "                        bar.append(barrio.text.strip())  #Se agregan los barrios al listado de barrios.\n",
    "                if columnas:  # Verificar que la fila contenga datos\n",
    "                    i = 0 #Se incializa variable para identificar si el valor de la columna corresponde a cantidad de hombres, mujeres o al total.\n",
    "                    for columna in columnas:\n",
    "                        if i == 0: #De forma manual, se identifico que la primera columna corresponde a la cantidad de hombres en los barrios.\n",
    "                            hom.append(columna.text.strip())\n",
    "                        if i == 1: #De forma manual, se identifico que la segunda columna corresponde a la cantidad de mujeres en los barrios.\n",
    "                            muj.append(columna.text.strip())\n",
    "                        if i == 2: #De forma manual, se identifico que la tercera columna corresponde a la cantidad total de personas en los barrios.\n",
    "                            tot.append(columna.text.strip())\n",
    "                        i = i + 1\n",
    "            i = i+1\n",
    "    else:\n",
    "        print('No se encontró la tabla en la página web.')\n",
    "else:\n",
    "    print('La solicitud GET no fue exitosa. Código de estado:', response.status_code)"
   ]
  },
  {
   "cell_type": "markdown",
   "metadata": {
    "application/vnd.databricks.v1+cell": {
     "cellMetadata": {
      "byteLimit": 2048000,
      "rowLimit": 10000
     },
     "inputWidgets": {},
     "nuid": "90930bab-f30b-46b9-ae3b-c80726f98988",
     "showTitle": false,
     "title": ""
    }
   },
   "source": [
    "<h3>Formando un dataframe de Pandas a partir de la información obtenida a través de WebScrapping</h3>"
   ]
  },
  {
   "cell_type": "code",
   "execution_count": 0,
   "metadata": {
    "application/vnd.databricks.v1+cell": {
     "cellMetadata": {
      "byteLimit": 2048000,
      "rowLimit": 10000
     },
     "inputWidgets": {},
     "nuid": "57dca152-d71d-41b1-ad42-b4ef70ed383e",
     "showTitle": false,
     "title": ""
    }
   },
   "outputs": [
    {
     "output_type": "stream",
     "name": "stdout",
     "output_type": "stream",
     "text": [
      "                   Localidad  ...    Total\n0                      Bronx  ...  114,070\n1                      Bronx  ...  142,935\n2                      Bronx  ...  121,544\n3                      Bronx  ...  129,130\n4                      Bronx  ...  163,704\n5                      Bronx  ...  130,681\n6                      Bronx  ...  136,391\n7                      Bronx  ...  142,504\n8                      Bronx  ...  187,006\n9                      Bronx  ...  159,091\n10          Kings (Brooklyn)  ...  152,416\n11          Kings (Brooklyn)  ...  131,215\n12          Kings (Brooklyn)  ...  136,658\n13          Kings (Brooklyn)  ...  123,378\n14          Kings (Brooklyn)  ...  111,216\n15          Kings (Brooklyn)  ...  126,336\n16          Kings (Brooklyn)  ...  120,791\n17          Kings (Brooklyn)  ...  156,854\n18          Kings (Brooklyn)  ...  198,379\n19          Kings (Brooklyn)  ...  139,516\n20          Kings (Brooklyn)  ...  110,217\n21          Kings (Brooklyn)  ...  151,277\n22          Kings (Brooklyn)  ...  126,814\n23          Kings (Brooklyn)  ...  166,940\n24          Kings (Brooklyn)  ...  162,782\n25          Kings (Brooklyn)  ...  153,513\n26          Kings (Brooklyn)  ...  188,210\n27          Kings (Brooklyn)  ...  120,258\n28      New York (Manhattan)  ...  202,048\n29      New York (Manhattan)  ...  128,146\n30      New York (Manhattan)  ...  120,472\n31      New York (Manhattan)  ...  119,732\n32      New York (Manhattan)  ...  230,382\n33      New York (Manhattan)  ...  202,799\n34      New York (Manhattan)  ...  148,414\n35      New York (Manhattan)  ...  155,577\n36      New York (Manhattan)  ...  168,949\n37      New York (Manhattan)  ...  152,636\n38                    Queens  ...  176,458\n39                    Queens  ...  184,439\n40                    Queens  ...  256,180\n41                    Queens  ...  120,960\n42                    Queens  ...  192,847\n43                    Queens  ...  157,201\n44                    Queens  ...  147,176\n45                    Queens  ...  116,826\n46                    Queens  ...  135,848\n47                    Queens  ...  173,241\n48                    Queens  ...  143,940\n49                    Queens  ...  223,714\n50                    Queens  ...  125,228\n51                    Queens  ...  117,247\n52  Richmond (Staten Island)  ...  162,511\n53  Richmond (Staten Island)  ...  136,381\n54  Richmond (Staten Island)  ...  176,703\n\n[55 rows x 5 columns]\n"
     ]
    }
   ],
   "source": [
    "import pandas as pd\n",
    "\n",
    "# Crear un DataFrame de Pandas con las listas\n",
    "tabla = {\n",
    "    'Localidad': loc,\n",
    "    'Barrio': bar,\n",
    "    'Hombres': hom,\n",
    "    'Mujeres' : muj,\n",
    "    'Total' : tot\n",
    "}\n",
    "\n",
    "df = pd.DataFrame(tabla)\n",
    "\n",
    "# Imprimir el DataFrame\n",
    "print(df)"
   ]
  },
  {
   "cell_type": "markdown",
   "metadata": {
    "application/vnd.databricks.v1+cell": {
     "cellMetadata": {
      "byteLimit": 2048000,
      "rowLimit": 10000
     },
     "inputWidgets": {},
     "nuid": "40995739-00a0-4b09-a0d0-bea6ab6ac2d1",
     "showTitle": false,
     "title": ""
    }
   },
   "source": [
    "<h3>Creando la sesión de PySpark y transformando el dataframe de pandas en pyspark para mostrar en forma de tabla</h3>"
   ]
  },
  {
   "cell_type": "code",
   "execution_count": 0,
   "metadata": {
    "application/vnd.databricks.v1+cell": {
     "cellMetadata": {
      "byteLimit": 2048000,
      "rowLimit": 10000
     },
     "inputWidgets": {},
     "nuid": "12aa4008-73c7-4602-9e74-eb01bfec914a",
     "showTitle": false,
     "title": ""
    }
   },
   "outputs": [
    {
     "output_type": "display_data",
     "data": {
      "text/html": [
       "<style scoped>\n",
       "  .table-result-container {\n",
       "    max-height: 300px;\n",
       "    overflow: auto;\n",
       "  }\n",
       "  table, th, td {\n",
       "    border: 1px solid black;\n",
       "    border-collapse: collapse;\n",
       "  }\n",
       "  th, td {\n",
       "    padding: 5px;\n",
       "  }\n",
       "  th {\n",
       "    text-align: left;\n",
       "  }\n",
       "</style><div class='table-result-container'><table class='table-result'><thead style='background-color: white'><tr><th>Localidad</th><th>Barrio</th><th>Hombres</th><th>Mujeres</th><th>Total</th></tr></thead><tbody><tr><td>Bronx</td><td>Riverdale, Fieldston & Kingsbridge</td><td>52,133</td><td>61,937</td><td>114,070</td></tr><tr><td>Bronx</td><td>Wakefield, Williamsbridge & Woodlawn</td><td>65,087</td><td>77,848</td><td>142,935</td></tr><tr><td>Bronx</td><td>Co-op City, Pelham Bay & Schuylerville</td><td>55,615</td><td>65,929</td><td>121,544</td></tr><tr><td>Bronx</td><td>Pelham Parkway, Morris Park & Laconia</td><td>61,233</td><td>67,896</td><td>129,130</td></tr><tr><td>Bronx</td><td>Belmont, Crotona Park East & East Tremont</td><td>75,963</td><td>87,740</td><td>163,704</td></tr><tr><td>Bronx</td><td>Bedford Park, Fordham North & Norwood</td><td>62,664</td><td>68,016</td><td>130,681</td></tr><tr><td>Bronx</td><td>Morris Heights, Fordham South & Mount Hope</td><td>64,748</td><td>71,644</td><td>136,391</td></tr><tr><td>Bronx</td><td>Concourse, Highbridge & Mount Eden</td><td>67,535</td><td>74,968</td><td>142,504</td></tr><tr><td>Bronx</td><td>Castle Hill, Clason Point & Parkchester</td><td>87,605</td><td>99,401</td><td>187,006</td></tr><tr><td>Bronx</td><td>Hunts Point, Longwood & Melrose</td><td>80,447</td><td>78,645</td><td>159,091</td></tr><tr><td>Kings (Brooklyn)</td><td>Greenpoint & Williamsburg</td><td>75,780</td><td>76,636</td><td>152,416</td></tr><tr><td>Kings (Brooklyn)</td><td>Bushwick</td><td>65,255</td><td>65,960</td><td>131,215</td></tr><tr><td>Kings (Brooklyn)</td><td>Bedford-Stuyvesant</td><td>63,462</td><td>73,197</td><td>136,658</td></tr><tr><td>Kings (Brooklyn)</td><td>Brooklyn Heights & Fort Greene</td><td>57,864</td><td>65,514</td><td>123,378</td></tr><tr><td>Kings (Brooklyn)</td><td>Park Slope, Carroll Gardens & Red Hook</td><td>52,939</td><td>58,276</td><td>111,216</td></tr><tr><td>Kings (Brooklyn)</td><td>Crown Heights North & Prospect Heights</td><td>57,113</td><td>69,223</td><td>126,336</td></tr><tr><td>Kings (Brooklyn)</td><td>Brownsville & Ocean Hill</td><td>53,155</td><td>67,636</td><td>120,791</td></tr><tr><td>Kings (Brooklyn)</td><td>East New York & Starrett City</td><td>71,846</td><td>85,009</td><td>156,854</td></tr><tr><td>Kings (Brooklyn)</td><td>Canarsie & Flatlands</td><td>89,733</td><td>108,646</td><td>198,379</td></tr><tr><td>Kings (Brooklyn)</td><td>East Flatbush, Farragut & Rugby</td><td>61,717</td><td>77,800</td><td>139,516</td></tr><tr><td>Kings (Brooklyn)</td><td>Crown Heights So., Prospect Lefferts & Wingate</td><td>49,881</td><td>60,336</td><td>110,217</td></tr><tr><td>Kings (Brooklyn)</td><td>Sunset Park & Windsor Terrace</td><td>77,339</td><td>73,938</td><td>151,277</td></tr><tr><td>Kings (Brooklyn)</td><td>Bay Ridge & Dyker Heights</td><td>61,788</td><td>65,026</td><td>126,814</td></tr><tr><td>Kings (Brooklyn)</td><td>Borough Park, Kensington & Ocean Parkway</td><td>84,255</td><td>82,685</td><td>166,940</td></tr><tr><td>Kings (Brooklyn)</td><td>Flatbush & Midwood</td><td>76,921</td><td>85,862</td><td>162,782</td></tr><tr><td>Kings (Brooklyn)</td><td>Sheepshead Bay, Gerritsen Beach & Homecrest</td><td>73,833</td><td>79,681</td><td>153,513</td></tr><tr><td>Kings (Brooklyn)</td><td>Bensonhurst & Bath Beach</td><td>92,433</td><td>95,777</td><td>188,210</td></tr><tr><td>Kings (Brooklyn)</td><td>Brighton Beach & Coney Island</td><td>55,614</td><td>64,643</td><td>120,258</td></tr><tr><td>New York (Manhattan)</td><td>Washington Heights, Inwood & Marble Hill</td><td>96,215</td><td>105,833</td><td>202,048</td></tr><tr><td>New York (Manhattan)</td><td>Hamilton Heights, Manhattanville & West Harlem</td><td>60,743</td><td>67,404</td><td>128,146</td></tr><tr><td>New York (Manhattan)</td><td>Central Harlem</td><td>55,606</td><td>64,866</td><td>120,472</td></tr><tr><td>New York (Manhattan)</td><td>East Harlem</td><td>55,792</td><td>63,940</td><td>119,732</td></tr><tr><td>New York (Manhattan)</td><td>Upper East Side</td><td>103,146</td><td>127,235</td><td>230,382</td></tr><tr><td>New York (Manhattan)</td><td>Upper West Side & West Side</td><td>93,709</td><td>109,090</td><td>202,799</td></tr><tr><td>New York (Manhattan)</td><td>Chelsea, Clinton & Midtown Business District</td><td>77,220</td><td>71,193</td><td>148,414</td></tr><tr><td>New York (Manhattan)</td><td>Murray Hill, Gramercy & Stuyvesant Town</td><td>71,570</td><td>84,006</td><td>155,577</td></tr><tr><td>New York (Manhattan)</td><td>Chinatown & Lower East Side</td><td>81,838</td><td>87,111</td><td>168,949</td></tr><tr><td>New York (Manhattan)</td><td>Battery Park City, Greenwich Village & Soho</td><td>75,450</td><td>77,186</td><td>152,636</td></tr><tr><td>Queens</td><td>Astoria & Long Island City</td><td>86,263</td><td>90,194</td><td>176,458</td></tr><tr><td>Queens</td><td>Jackson Heights & North Corona</td><td>95,745</td><td>88,694</td><td>184,439</td></tr><tr><td>Queens</td><td>Flushing, Murray Hill & Whitestone</td><td>122,829</td><td>133,352</td><td>256,180</td></tr><tr><td>Queens</td><td>Bayside, Douglaston & Little Neck</td><td>58,039</td><td>62,921</td><td>120,960</td></tr><tr><td>Queens</td><td>Queens Village, Cambria Heights & Rosedale</td><td>89,646</td><td>103,201</td><td>192,847</td></tr><tr><td>Queens</td><td>Briarwood, Fresh Meadows & Hillcrest</td><td>75,469</td><td>81,733</td><td>157,201</td></tr><tr><td>Queens</td><td>Elmhurst & South Corona</td><td>74,854</td><td>72,322</td><td>147,176</td></tr><tr><td>Queens</td><td>Forest Hills & Rego Park</td><td>54,579</td><td>62,247</td><td>116,826</td></tr><tr><td>Queens</td><td>Sunnyside & Woodside</td><td>68,809</td><td>67,040</td><td>135,848</td></tr><tr><td>Queens</td><td>Ridgewood, Glendale & Middle Village</td><td>84,806</td><td>88,435</td><td>173,241</td></tr><tr><td>Queens</td><td>Richmond Hill & Woodhaven</td><td>71,620</td><td>72,321</td><td>143,940</td></tr><tr><td>Queens</td><td>Jamaica, Hollis & St. Albans</td><td>103,655</td><td>120,058</td><td>223,714</td></tr><tr><td>Queens</td><td>Howard Beach & Ozone Park</td><td>60,625</td><td>64,603</td><td>125,228</td></tr><tr><td>Queens</td><td>Far Rockaway, Breezy Point & Broad Channel</td><td>55,361</td><td>61,886</td><td>117,247</td></tr><tr><td>Richmond (Staten Island)</td><td>Tottenville, Great Kills & Annadale</td><td>79,467</td><td>83,044</td><td>162,511</td></tr><tr><td>Richmond (Staten Island)</td><td>New Springville & South Beach</td><td>65,459</td><td>70,923</td><td>136,381</td></tr><tr><td>Richmond (Staten Island)</td><td>Port Richmond, Stapleton & Mariner's Harbor</td><td>85,804</td><td>90,899</td><td>176,703</td></tr></tbody></table></div>"
      ]
     },
     "metadata": {
      "application/vnd.databricks.v1+output": {
       "addedWidgets": {},
       "aggData": [],
       "aggError": "",
       "aggOverflow": false,
       "aggSchema": [],
       "aggSeriesLimitReached": false,
       "aggType": "",
       "arguments": {},
       "columnCustomDisplayInfos": {},
       "data": [
        [
         "Bronx",
         "Riverdale, Fieldston & Kingsbridge",
         "52,133",
         "61,937",
         "114,070"
        ],
        [
         "Bronx",
         "Wakefield, Williamsbridge & Woodlawn",
         "65,087",
         "77,848",
         "142,935"
        ],
        [
         "Bronx",
         "Co-op City, Pelham Bay & Schuylerville",
         "55,615",
         "65,929",
         "121,544"
        ],
        [
         "Bronx",
         "Pelham Parkway, Morris Park & Laconia",
         "61,233",
         "67,896",
         "129,130"
        ],
        [
         "Bronx",
         "Belmont, Crotona Park East & East Tremont",
         "75,963",
         "87,740",
         "163,704"
        ],
        [
         "Bronx",
         "Bedford Park, Fordham North & Norwood",
         "62,664",
         "68,016",
         "130,681"
        ],
        [
         "Bronx",
         "Morris Heights, Fordham South & Mount Hope",
         "64,748",
         "71,644",
         "136,391"
        ],
        [
         "Bronx",
         "Concourse, Highbridge & Mount Eden",
         "67,535",
         "74,968",
         "142,504"
        ],
        [
         "Bronx",
         "Castle Hill, Clason Point & Parkchester",
         "87,605",
         "99,401",
         "187,006"
        ],
        [
         "Bronx",
         "Hunts Point, Longwood & Melrose",
         "80,447",
         "78,645",
         "159,091"
        ],
        [
         "Kings (Brooklyn)",
         "Greenpoint & Williamsburg",
         "75,780",
         "76,636",
         "152,416"
        ],
        [
         "Kings (Brooklyn)",
         "Bushwick",
         "65,255",
         "65,960",
         "131,215"
        ],
        [
         "Kings (Brooklyn)",
         "Bedford-Stuyvesant",
         "63,462",
         "73,197",
         "136,658"
        ],
        [
         "Kings (Brooklyn)",
         "Brooklyn Heights & Fort Greene",
         "57,864",
         "65,514",
         "123,378"
        ],
        [
         "Kings (Brooklyn)",
         "Park Slope, Carroll Gardens & Red Hook",
         "52,939",
         "58,276",
         "111,216"
        ],
        [
         "Kings (Brooklyn)",
         "Crown Heights North & Prospect Heights",
         "57,113",
         "69,223",
         "126,336"
        ],
        [
         "Kings (Brooklyn)",
         "Brownsville & Ocean Hill",
         "53,155",
         "67,636",
         "120,791"
        ],
        [
         "Kings (Brooklyn)",
         "East New York & Starrett City",
         "71,846",
         "85,009",
         "156,854"
        ],
        [
         "Kings (Brooklyn)",
         "Canarsie & Flatlands",
         "89,733",
         "108,646",
         "198,379"
        ],
        [
         "Kings (Brooklyn)",
         "East Flatbush, Farragut & Rugby",
         "61,717",
         "77,800",
         "139,516"
        ],
        [
         "Kings (Brooklyn)",
         "Crown Heights So., Prospect Lefferts & Wingate",
         "49,881",
         "60,336",
         "110,217"
        ],
        [
         "Kings (Brooklyn)",
         "Sunset Park & Windsor Terrace",
         "77,339",
         "73,938",
         "151,277"
        ],
        [
         "Kings (Brooklyn)",
         "Bay Ridge & Dyker Heights",
         "61,788",
         "65,026",
         "126,814"
        ],
        [
         "Kings (Brooklyn)",
         "Borough Park, Kensington & Ocean Parkway",
         "84,255",
         "82,685",
         "166,940"
        ],
        [
         "Kings (Brooklyn)",
         "Flatbush & Midwood",
         "76,921",
         "85,862",
         "162,782"
        ],
        [
         "Kings (Brooklyn)",
         "Sheepshead Bay, Gerritsen Beach & Homecrest",
         "73,833",
         "79,681",
         "153,513"
        ],
        [
         "Kings (Brooklyn)",
         "Bensonhurst & Bath Beach",
         "92,433",
         "95,777",
         "188,210"
        ],
        [
         "Kings (Brooklyn)",
         "Brighton Beach & Coney Island",
         "55,614",
         "64,643",
         "120,258"
        ],
        [
         "New York (Manhattan)",
         "Washington Heights, Inwood & Marble Hill",
         "96,215",
         "105,833",
         "202,048"
        ],
        [
         "New York (Manhattan)",
         "Hamilton Heights, Manhattanville & West Harlem",
         "60,743",
         "67,404",
         "128,146"
        ],
        [
         "New York (Manhattan)",
         "Central Harlem",
         "55,606",
         "64,866",
         "120,472"
        ],
        [
         "New York (Manhattan)",
         "East Harlem",
         "55,792",
         "63,940",
         "119,732"
        ],
        [
         "New York (Manhattan)",
         "Upper East Side",
         "103,146",
         "127,235",
         "230,382"
        ],
        [
         "New York (Manhattan)",
         "Upper West Side & West Side",
         "93,709",
         "109,090",
         "202,799"
        ],
        [
         "New York (Manhattan)",
         "Chelsea, Clinton & Midtown Business District",
         "77,220",
         "71,193",
         "148,414"
        ],
        [
         "New York (Manhattan)",
         "Murray Hill, Gramercy & Stuyvesant Town",
         "71,570",
         "84,006",
         "155,577"
        ],
        [
         "New York (Manhattan)",
         "Chinatown & Lower East Side",
         "81,838",
         "87,111",
         "168,949"
        ],
        [
         "New York (Manhattan)",
         "Battery Park City, Greenwich Village & Soho",
         "75,450",
         "77,186",
         "152,636"
        ],
        [
         "Queens",
         "Astoria & Long Island City",
         "86,263",
         "90,194",
         "176,458"
        ],
        [
         "Queens",
         "Jackson Heights & North Corona",
         "95,745",
         "88,694",
         "184,439"
        ],
        [
         "Queens",
         "Flushing, Murray Hill & Whitestone",
         "122,829",
         "133,352",
         "256,180"
        ],
        [
         "Queens",
         "Bayside, Douglaston & Little Neck",
         "58,039",
         "62,921",
         "120,960"
        ],
        [
         "Queens",
         "Queens Village, Cambria Heights & Rosedale",
         "89,646",
         "103,201",
         "192,847"
        ],
        [
         "Queens",
         "Briarwood, Fresh Meadows & Hillcrest",
         "75,469",
         "81,733",
         "157,201"
        ],
        [
         "Queens",
         "Elmhurst & South Corona",
         "74,854",
         "72,322",
         "147,176"
        ],
        [
         "Queens",
         "Forest Hills & Rego Park",
         "54,579",
         "62,247",
         "116,826"
        ],
        [
         "Queens",
         "Sunnyside & Woodside",
         "68,809",
         "67,040",
         "135,848"
        ],
        [
         "Queens",
         "Ridgewood, Glendale & Middle Village",
         "84,806",
         "88,435",
         "173,241"
        ],
        [
         "Queens",
         "Richmond Hill & Woodhaven",
         "71,620",
         "72,321",
         "143,940"
        ],
        [
         "Queens",
         "Jamaica, Hollis & St. Albans",
         "103,655",
         "120,058",
         "223,714"
        ],
        [
         "Queens",
         "Howard Beach & Ozone Park",
         "60,625",
         "64,603",
         "125,228"
        ],
        [
         "Queens",
         "Far Rockaway, Breezy Point & Broad Channel",
         "55,361",
         "61,886",
         "117,247"
        ],
        [
         "Richmond (Staten Island)",
         "Tottenville, Great Kills & Annadale",
         "79,467",
         "83,044",
         "162,511"
        ],
        [
         "Richmond (Staten Island)",
         "New Springville & South Beach",
         "65,459",
         "70,923",
         "136,381"
        ],
        [
         "Richmond (Staten Island)",
         "Port Richmond, Stapleton & Mariner's Harbor",
         "85,804",
         "90,899",
         "176,703"
        ]
       ],
       "datasetInfos": [],
       "dbfsResultPath": null,
       "isJsonSchema": true,
       "metadata": {},
       "overflow": false,
       "plotOptions": {
        "customPlotOptions": {},
        "displayType": "table",
        "pivotAggregation": null,
        "pivotColumns": null,
        "xColumns": null,
        "yColumns": null
       },
       "removedWidgets": [],
       "schema": [
        {
         "metadata": "{}",
         "name": "Localidad",
         "type": "\"string\""
        },
        {
         "metadata": "{}",
         "name": "Barrio",
         "type": "\"string\""
        },
        {
         "metadata": "{}",
         "name": "Hombres",
         "type": "\"string\""
        },
        {
         "metadata": "{}",
         "name": "Mujeres",
         "type": "\"string\""
        },
        {
         "metadata": "{}",
         "name": "Total",
         "type": "\"string\""
        }
       ],
       "type": "table"
      }
     },
     "output_type": "display_data"
    }
   ],
   "source": [
    "from pyspark.sql import SparkSession #Importamos la libreria de Spark para iniciar sesión y visualizar la tabla\n",
    "\n",
    "# Crear una SparkSession\n",
    "spark = SparkSession.builder \\\n",
    "    .appName(\"Pandas_to_Spark\") \\\n",
    "    .getOrCreate()\n",
    "\n",
    "\n",
    "# Convertir el DataFrame de Pandas a un DataFrame de PySpark\n",
    "df_spark = spark.createDataFrame(df)\n",
    "\n",
    "# Visualizar los primeros registros del DataFrame de PySpark\n",
    "df_spark.display()"
   ]
  }
 ],
 "metadata": {
  "application/vnd.databricks.v1+notebook": {
   "dashboards": [],
   "language": "python",
   "notebookMetadata": {
    "pythonIndentUnit": 4
   },
   "notebookName": "Bonus_WebScrapping_NY_Population_Data",
   "widgets": {}
  }
 },
 "nbformat": 4,
 "nbformat_minor": 0
}
